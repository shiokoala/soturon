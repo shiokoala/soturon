{
 "cells": [
  {
   "cell_type": "code",
   "execution_count": 1,
   "metadata": {},
   "outputs": [],
   "source": [
    "import math\n",
    "import random\n",
    "import numpy as np\n",
    "import matplotlib.pyplot as plt"
   ]
  },
  {
   "cell_type": "code",
   "execution_count": 48,
   "metadata": {},
   "outputs": [],
   "source": [
    "gg = 9.8\n",
    "rho = 997\n",
    "beta = 0.25\n",
    "t = 0\n",
    "dt = 1"
   ]
  },
  {
   "cell_type": "code",
   "execution_count": 3,
   "metadata": {},
   "outputs": [],
   "source": [
    "class Wave:\n",
    "    amp = 0.\n",
    "    k = 0.\n",
    "    omega = 0.\n",
    "    phase = 0.\n",
    "    def __init__(self, a, o, p):\n",
    "        self.amp = a\n",
    "        self.omega = o\n",
    "        self.k = o*o/gg\n",
    "        self.phase = p\n",
    "    \n",
    "    def get(self,x, t):\n",
    "        return self.amp*math.sin(self.omega*t + self.k*x + self.phase)\n"
   ]
  },
  {
   "cell_type": "code",
   "execution_count": 32,
   "metadata": {},
   "outputs": [],
   "source": [
    "class Water:\n",
    "    waves = []\n",
    "    def __init__(self, num):\n",
    "        for i in range(num):\n",
    "            newWave = Wave(random.uniform(0.01,0.1),random.uniform(2,10),random.uniform(1,10))\n",
    "            self.waves.append(newWave)\n",
    "    def get(self,x,t):\n",
    "        waveheight = 0\n",
    "        for w in self.waves:\n",
    "            waveheight += w.get(x,t)\n",
    "        return waveheight"
   ]
  },
  {
   "cell_type": "code",
   "execution_count": 34,
   "metadata": {},
   "outputs": [],
   "source": [
    "ww = Water(10)"
   ]
  },
  {
   "cell_type": "code",
   "execution_count": 35,
   "metadata": {},
   "outputs": [],
   "source": [
    "class Particle:\n",
    "    posx = 0\n",
    "    posz = 0\n",
    "    velx = 0\n",
    "    velz = 0\n",
    "    accx = 0\n",
    "    accz = 0\n",
    "    \n",
    "    angle = 0\n",
    "    anglevel = 0\n",
    "    angleacc = 0\n",
    "\n",
    "    pl = 3.11\n",
    "    ph = 0.70\n",
    "    pw = 0.94\n",
    "    pv = 0.0878\n",
    "    mass = pv*100\n",
    "\n",
    "    A11 = 0.3 * rho * pv\n",
    "    A13 = 0\n",
    "    A31 = 0\n",
    "    A53 = 0.1 * rho * pv * pl\n",
    "    A35 = 0.05* rho * pv * pl\n",
    "    A33 = 0.3 * rho * pv\n",
    "    A51 = 0.01* rho * pv * pl\n",
    "    A55 = 0.07* rho * pv * pl * pl\n",
    "    B11 = 2.0* rho * pv * math.sqrt(gg/pl)\n",
    "    B53 = 0.05* rho * pv * pl * math.sqrt(gg/pl)\n",
    "    B35 = 0.4* rho * pv * pl * math.sqrt(gg/pl)\n",
    "    B33 = 2.0* rho * pv * math.sqrt(gg/pl)\n",
    "    B55 = 0.4* rho * pv * pl * pl * math.sqrt(gg/pl)\n",
    "    C11 = 0\n",
    "    C53 = 0\n",
    "    C35 = 0\n",
    "    C33 = 11014\n",
    "\n",
    "\n",
    "    def __init__(self,x,z):\n",
    "        self.posx = x\n",
    "        self.posz = z\n",
    "\n",
    "    def calcAcc(self):\n",
    "        tFx=0\n",
    "        tFz=0\n",
    "        tM=0\n",
    "\n",
    "        tFz += self.mass*gg #Gravity\n",
    "        cP = ww.get(self.posx,t)\n",
    "\n",
    "        draught = min(max(self.posz-cP,0), self.ph)\n",
    "            \n",
    "        nx = math.cos(self.angle - math.pi/2)\n",
    "        ny = math.sin(self.angle - math.pi/2)\n",
    "\n",
    "        if(draught>0):\n",
    "          for w in ww.waves:\n",
    "            z = self.posz\n",
    "            ax =  w.omega*w.omega*w.amp*exp(w.k*self.posz)*cos(w.omega*t + w.k*self.posx)\n",
    "            ay = -w.omega*w.omega*w.amp*exp(w.k*self.posz)*sin(w.omega*t + w.k*self.posx)\n",
    "            pd =           rho*gg*w.amp*exp(w.k*self.posz)*sin(w.omega*t + w.k*self.posx)\n",
    "            tFx += -self.pw*self.pl*pd*nx + A11*ax + A13*ay\n",
    "            tFz += -self.pw*self.pl*pd*ny + A31*ax + A33*ay\n",
    "            totalMoment += A51*ax + A53*ay\n",
    "            # h1 = (tFz - B33*(self.velz + dt/2*self.accz) - C33*(self.posz+dt*self.velz+(0.5-beta)*dt*dt*self.accz))\n",
    "            # h11 = tFz\n",
    "            # h12 = - B33*(self.velz + dt/2*self.accz)\n",
    "            # h13 = - C33*(self.posz+dt*self.velz+(0.5-beta)*dt*dt*self.accz)\n",
    "            # h2 = ((self.ma+A33) + dt/2*B33 + beta*dt*dt*C33)\n",
    "\n",
    "          heave = (tFz - B33*(self.velz + dt/2*self.accz) - C33*(self.posz+dt*self.velz+(0.5-beta)*dt*dt*self.accz)) / ((self.ma+A33) + dt/2*B33 + beta*dt*dt*C33)\n",
    "          surge = (tFx - B11*(self.velx + dt/2*self.accx)) / ((self.mass+A11) + dt/2*B11)\n",
    "\n",
    "\n",
    "          self.accx = surge\n",
    "          self.accz = heave\n",
    "        else:\n",
    "          self.accx = 0\n",
    "          self.accz = -9.8\n",
    "\n",
    "    def update(self):\n",
    "     self.calcAcc()    \n",
    "     self.velx += self.accx*dt\n",
    "     self.velz += self.accz*dt\n",
    "     self.posx += self.velx*dt\n",
    "     self.posz += self.velz*dt\n",
    "\n",
    "   \n",
    " "
   ]
  },
  {
   "cell_type": "code",
   "execution_count": 36,
   "metadata": {},
   "outputs": [],
   "source": [
    "pp = Particle(0,0)"
   ]
  },
  {
   "cell_type": "code",
   "execution_count": 37,
   "metadata": {},
   "outputs": [
    {
     "ename": "NameError",
     "evalue": "name 'exp' is not defined",
     "output_type": "error",
     "traceback": [
      "\u001b[1;31m---------------------------------------------------------------------------\u001b[0m",
      "\u001b[1;31mNameError\u001b[0m                                 Traceback (most recent call last)",
      "\u001b[1;32m<ipython-input-37-4c90802211c3>\u001b[0m in \u001b[0;36m<module>\u001b[1;34m()\u001b[0m\n\u001b[1;32m----> 1\u001b[1;33m \u001b[0mpp\u001b[0m\u001b[1;33m.\u001b[0m\u001b[0mupdate\u001b[0m\u001b[1;33m(\u001b[0m\u001b[1;33m)\u001b[0m\u001b[1;33m\u001b[0m\u001b[0m\n\u001b[0m",
      "\u001b[1;32m<ipython-input-35-3b7ef126362d>\u001b[0m in \u001b[0;36mupdate\u001b[1;34m(self)\u001b[0m\n\u001b[0;32m     79\u001b[0m \u001b[1;33m\u001b[0m\u001b[0m\n\u001b[0;32m     80\u001b[0m     \u001b[1;32mdef\u001b[0m \u001b[0mupdate\u001b[0m\u001b[1;33m(\u001b[0m\u001b[0mself\u001b[0m\u001b[1;33m)\u001b[0m\u001b[1;33m:\u001b[0m\u001b[1;33m\u001b[0m\u001b[0m\n\u001b[1;32m---> 81\u001b[1;33m      \u001b[0mself\u001b[0m\u001b[1;33m.\u001b[0m\u001b[0mcalcAcc\u001b[0m\u001b[1;33m(\u001b[0m\u001b[1;33m)\u001b[0m\u001b[1;33m\u001b[0m\u001b[0m\n\u001b[0m\u001b[0;32m     82\u001b[0m      \u001b[0mself\u001b[0m\u001b[1;33m.\u001b[0m\u001b[0mvelx\u001b[0m \u001b[1;33m+=\u001b[0m \u001b[0mself\u001b[0m\u001b[1;33m.\u001b[0m\u001b[0maccx\u001b[0m\u001b[1;33m*\u001b[0m\u001b[0mdt\u001b[0m\u001b[1;33m\u001b[0m\u001b[0m\n\u001b[0;32m     83\u001b[0m      \u001b[0mself\u001b[0m\u001b[1;33m.\u001b[0m\u001b[0mvelz\u001b[0m \u001b[1;33m+=\u001b[0m \u001b[0mself\u001b[0m\u001b[1;33m.\u001b[0m\u001b[0maccz\u001b[0m\u001b[1;33m*\u001b[0m\u001b[0mdt\u001b[0m\u001b[1;33m\u001b[0m\u001b[0m\n",
      "\u001b[1;32m<ipython-input-35-3b7ef126362d>\u001b[0m in \u001b[0;36mcalcAcc\u001b[1;34m(self)\u001b[0m\n\u001b[0;32m     56\u001b[0m           \u001b[1;32mfor\u001b[0m \u001b[0mw\u001b[0m \u001b[1;32min\u001b[0m \u001b[0mww\u001b[0m\u001b[1;33m.\u001b[0m\u001b[0mwaves\u001b[0m\u001b[1;33m:\u001b[0m\u001b[1;33m\u001b[0m\u001b[0m\n\u001b[0;32m     57\u001b[0m             \u001b[0mz\u001b[0m \u001b[1;33m=\u001b[0m \u001b[0mself\u001b[0m\u001b[1;33m.\u001b[0m\u001b[0mposz\u001b[0m\u001b[1;33m\u001b[0m\u001b[0m\n\u001b[1;32m---> 58\u001b[1;33m             \u001b[0max\u001b[0m \u001b[1;33m=\u001b[0m  \u001b[0mw\u001b[0m\u001b[1;33m.\u001b[0m\u001b[0momega\u001b[0m\u001b[1;33m*\u001b[0m\u001b[0mw\u001b[0m\u001b[1;33m.\u001b[0m\u001b[0momega\u001b[0m\u001b[1;33m*\u001b[0m\u001b[0mw\u001b[0m\u001b[1;33m.\u001b[0m\u001b[0mamp\u001b[0m\u001b[1;33m*\u001b[0m\u001b[0mexp\u001b[0m\u001b[1;33m(\u001b[0m\u001b[0mw\u001b[0m\u001b[1;33m.\u001b[0m\u001b[0mk\u001b[0m\u001b[1;33m*\u001b[0m\u001b[0mself\u001b[0m\u001b[1;33m.\u001b[0m\u001b[0mposz\u001b[0m\u001b[1;33m)\u001b[0m\u001b[1;33m*\u001b[0m\u001b[0mcos\u001b[0m\u001b[1;33m(\u001b[0m\u001b[0mw\u001b[0m\u001b[1;33m.\u001b[0m\u001b[0momega\u001b[0m\u001b[1;33m*\u001b[0m\u001b[0mt\u001b[0m \u001b[1;33m+\u001b[0m \u001b[0mw\u001b[0m\u001b[1;33m.\u001b[0m\u001b[0mk\u001b[0m\u001b[1;33m*\u001b[0m\u001b[0mself\u001b[0m\u001b[1;33m.\u001b[0m\u001b[0mposx\u001b[0m\u001b[1;33m)\u001b[0m\u001b[1;33m\u001b[0m\u001b[0m\n\u001b[0m\u001b[0;32m     59\u001b[0m             \u001b[0may\u001b[0m \u001b[1;33m=\u001b[0m \u001b[1;33m-\u001b[0m\u001b[0mw\u001b[0m\u001b[1;33m.\u001b[0m\u001b[0momega\u001b[0m\u001b[1;33m*\u001b[0m\u001b[0mw\u001b[0m\u001b[1;33m.\u001b[0m\u001b[0momega\u001b[0m\u001b[1;33m*\u001b[0m\u001b[0mw\u001b[0m\u001b[1;33m.\u001b[0m\u001b[0mamp\u001b[0m\u001b[1;33m*\u001b[0m\u001b[0mexp\u001b[0m\u001b[1;33m(\u001b[0m\u001b[0mw\u001b[0m\u001b[1;33m.\u001b[0m\u001b[0mk\u001b[0m\u001b[1;33m*\u001b[0m\u001b[0mself\u001b[0m\u001b[1;33m.\u001b[0m\u001b[0mposz\u001b[0m\u001b[1;33m)\u001b[0m\u001b[1;33m*\u001b[0m\u001b[0msin\u001b[0m\u001b[1;33m(\u001b[0m\u001b[0mw\u001b[0m\u001b[1;33m.\u001b[0m\u001b[0momega\u001b[0m\u001b[1;33m*\u001b[0m\u001b[0mt\u001b[0m \u001b[1;33m+\u001b[0m \u001b[0mw\u001b[0m\u001b[1;33m.\u001b[0m\u001b[0mk\u001b[0m\u001b[1;33m*\u001b[0m\u001b[0mself\u001b[0m\u001b[1;33m.\u001b[0m\u001b[0mposx\u001b[0m\u001b[1;33m)\u001b[0m\u001b[1;33m\u001b[0m\u001b[0m\n\u001b[0;32m     60\u001b[0m             \u001b[0mpd\u001b[0m \u001b[1;33m=\u001b[0m           \u001b[0mrho\u001b[0m\u001b[1;33m*\u001b[0m\u001b[0mgg\u001b[0m\u001b[1;33m*\u001b[0m\u001b[0mw\u001b[0m\u001b[1;33m.\u001b[0m\u001b[0mamp\u001b[0m\u001b[1;33m*\u001b[0m\u001b[0mexp\u001b[0m\u001b[1;33m(\u001b[0m\u001b[0mw\u001b[0m\u001b[1;33m.\u001b[0m\u001b[0mk\u001b[0m\u001b[1;33m*\u001b[0m\u001b[0mself\u001b[0m\u001b[1;33m.\u001b[0m\u001b[0mposz\u001b[0m\u001b[1;33m)\u001b[0m\u001b[1;33m*\u001b[0m\u001b[0msin\u001b[0m\u001b[1;33m(\u001b[0m\u001b[0mw\u001b[0m\u001b[1;33m.\u001b[0m\u001b[0momega\u001b[0m\u001b[1;33m*\u001b[0m\u001b[0mt\u001b[0m \u001b[1;33m+\u001b[0m \u001b[0mw\u001b[0m\u001b[1;33m.\u001b[0m\u001b[0mk\u001b[0m\u001b[1;33m*\u001b[0m\u001b[0mself\u001b[0m\u001b[1;33m.\u001b[0m\u001b[0mposx\u001b[0m\u001b[1;33m)\u001b[0m\u001b[1;33m\u001b[0m\u001b[0m\n",
      "\u001b[1;31mNameError\u001b[0m: name 'exp' is not defined"
     ]
    }
   ],
   "source": [
    "pp.update()"
   ]
  },
  {
   "cell_type": "code",
   "execution_count": 38,
   "metadata": {},
   "outputs": [
    {
     "data": {
      "text/plain": [
       "0"
      ]
     },
     "execution_count": 38,
     "metadata": {},
     "output_type": "execute_result"
    }
   ],
   "source": [
    "pp.posz"
   ]
  },
  {
   "cell_type": "code",
   "execution_count": 39,
   "metadata": {},
   "outputs": [
    {
     "data": {
      "text/plain": [
       "array([-2.00000000e+00, -1.90000000e+00, -1.80000000e+00, -1.70000000e+00,\n",
       "       -1.60000000e+00, -1.50000000e+00, -1.40000000e+00, -1.30000000e+00,\n",
       "       -1.20000000e+00, -1.10000000e+00, -1.00000000e+00, -9.00000000e-01,\n",
       "       -8.00000000e-01, -7.00000000e-01, -6.00000000e-01, -5.00000000e-01,\n",
       "       -4.00000000e-01, -3.00000000e-01, -2.00000000e-01, -1.00000000e-01,\n",
       "        1.77635684e-15,  1.00000000e-01,  2.00000000e-01,  3.00000000e-01,\n",
       "        4.00000000e-01,  5.00000000e-01,  6.00000000e-01,  7.00000000e-01,\n",
       "        8.00000000e-01,  9.00000000e-01,  1.00000000e+00,  1.10000000e+00,\n",
       "        1.20000000e+00,  1.30000000e+00,  1.40000000e+00,  1.50000000e+00,\n",
       "        1.60000000e+00,  1.70000000e+00,  1.80000000e+00,  1.90000000e+00])"
      ]
     },
     "execution_count": 39,
     "metadata": {},
     "output_type": "execute_result"
    }
   ],
   "source": [
    "np.arange(-2,2,0.1)"
   ]
  },
  {
   "cell_type": "code",
   "execution_count": 40,
   "metadata": {},
   "outputs": [],
   "source": [
    "wave = Wave(1,10,1)"
   ]
  },
  {
   "cell_type": "code",
   "execution_count": 41,
   "metadata": {},
   "outputs": [],
   "source": [
    "xdata = np.arange(-2,2,0.01)\n",
    "ydata = np.array([ww.get(x,t) for x in xdata])\n",
    "# ydata = np.array([wave.get(x,t) for x in xdata])\n"
   ]
  },
  {
   "cell_type": "code",
   "execution_count": 51,
   "metadata": {},
   "outputs": [
    {
     "data": {
      "image/png": "[encoded data removed]",
      "text/plain": [
       "<Figure size 432x288 with 1 Axes>"
      ]
     },
     "metadata": {},
     "output_type": "display_data"
    }
   ],
   "source": [
    "xdata = np.arange(-2,2,0.01)\n",
    "ydata = np.array([ww.get(x,t) for x in xdata])\n",
    "fig, ax = plt.subplots()\n",
    "ax.set_xlim(-2.0,2.0)\n",
    "ax.set_ylim(-2.0,2.0)\n",
    "ax.set_aspect('equal', adjustable='box')\n",
    "\n",
    "ax.plot(xdata,ydata)\n",
    "\n",
    "t+=dt"
   ]
  },
  {
   "cell_type": "code",
   "execution_count": null,
   "metadata": {},
   "outputs": [],
   "source": []
  },
  {
   "cell_type": "code",
   "execution_count": null,
   "metadata": {},
   "outputs": [],
   "source": []
  },
  {
   "cell_type": "code",
   "execution_count": null,
   "metadata": {},
   "outputs": [],
   "source": []
  }
 ],
 "metadata": {
  "kernelspec": {
   "display_name": "Python 3",
   "language": "python",
   "name": "python3"
  },
  "language_info": {
   "codemirror_mode": {
    "name": "ipython",
    "version": 3
   },
   "file_extension": ".py",
   "mimetype": "text/x-python",
   "name": "python",
   "nbconvert_exporter": "python",
   "pygments_lexer": "ipython3",
   "version": "3.6.4"
  }
 },
 "nbformat": 4,
 "nbformat_minor": 2
}
