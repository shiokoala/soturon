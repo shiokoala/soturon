{
 "metadata": {
  "language_info": {
   "codemirror_mode": {
    "name": "ipython",
    "version": 3
   },
   "file_extension": ".py",
   "mimetype": "text/x-python",
   "name": "python",
   "nbconvert_exporter": "python",
   "pygments_lexer": "ipython3",
   "version": "3.6.12-final"
  },
  "orig_nbformat": 2,
  "kernelspec": {
   "name": "python3",
   "display_name": "Python 3",
   "language": "python"
  }
 },
 "nbformat": 4,
 "nbformat_minor": 2,
 "cells": [
  {
   "cell_type": "code",
   "execution_count": 14,
   "metadata": {
    "tags": []
   },
   "outputs": [
    {
     "output_type": "stream",
     "name": "stdout",
     "text": [
      "Simulation start\n",
      "iter   objective    pri res    dua res    rho        time\n",
      "   1   0.0000e+00   0.00e+00   0.00e+00   1.00e-01   2.28e-04s\n",
      "  25   0.0000e+00   0.00e+00   0.00e+00   1.00e-01   1.54e-03s\n",
      "\n",
      "status:               solved\n",
      "number of iterations: 25\n",
      "optimal objective:    0.0000\n",
      "run time:             1.79e-03s\n",
      "optimal rho estimate: 1.00e-06\n",
      "\n",
      "calc time:0.027007102966308594[sec]\n"
     ]
    },
    {
     "output_type": "display_data",
     "data": {
      "text/plain": "<Figure size 432x288 with 4 Axes>",
      "image/svg+xml": "<?xml version=\"1.0\" encoding=\"utf-8\" standalone=\"no\"?>\r\n<!DOCTYPE svg PUBLIC \"-//W3C//DTD SVG 1.1//EN\"\r\n  \"http://www.w3.org/Graphics/SVG/1.1/DTD/svg11.dtd\">\r\n<!-- Created with matplotlib (https://matplotlib.org/) -->\r\n<svg height=\"280.681729pt\" version=\"1.1\" viewBox=\"0 0 421.554688 280.681729\" width=\"421.554688pt\" xmlns=\"http://www.w3.org/2000/svg\" xmlns:xlink=\"http://www.w3.org/1999/xlink\">\r\n <metadata>\r\n  <rdf:RDF xmlns:cc=\"http://creativecommons.org/ns#\" xmlns:dc=\"http://purl.org/dc/elements/1.1/\" xmlns:rdf=\"http://www.w3.org/1999/02/22-rdf-syntax-ns#\">\r\n   <cc:Work>\r\n    <dc:type rdf:resource=\"http://purl.org/dc/dcmitype/StillImage\"/>\r\n    <dc:date>2021-01-06T07:26:25.105772</dc:date>\r\n    <dc:format>image/svg+xml</dc:format>\r\n    <dc:creator>\r\n     <cc:Agent>\r\n      <dc:title>Matplotlib v3.3.2, https://matplotlib.org/</dc:title>\r\n     </cc:Agent>\r\n    </dc:creator>\r\n   </cc:Work>\r\n  </rdf:RDF>\r\n </metadata>\r\n <defs>\r\n  <style type=\"text/css\">*{stroke-linecap:butt;stroke-linejoin:round;}</style>\r\n </defs>\r\n <g id=\"figure_1\">\r\n  <g id=\"patch_1\">\r\n   <path d=\"M 0 280.681729 \r\nL 421.554688 280.681729 \r\nL 421.554688 0 \r\nL 0 0 \r\nz\r\n\" style=\"fill:none;\"/>\r\n  </g>\r\n  <g id=\"axes_1\">\r\n   <g id=\"patch_2\">\r\n    <path d=\"M 52.604688 51.429641 \r\nL 414.354688 51.429641 \r\nL 414.354688 9.017486 \r\nL 52.604688 9.017486 \r\nz\r\n\" style=\"fill:#ffffff;\"/>\r\n   </g>\r\n   <g id=\"matplotlib.axis_1\"/>\r\n   <g id=\"matplotlib.axis_2\">\r\n    <g id=\"ytick_1\">\r\n     <g id=\"line2d_1\">\r\n      <defs>\r\n       <path d=\"M 0 0 \r\nL -3.5 0 \r\n\" id=\"m6bf29be7e2\" style=\"stroke:#000000;stroke-width:0.8;\"/>\r\n      </defs>\r\n      <g>\r\n       <use style=\"stroke:#000000;stroke-width:0.8;\" x=\"52.604688\" xlink:href=\"#m6bf29be7e2\" y=\"49.501815\"/>\r\n      </g>\r\n     </g>\r\n     <g id=\"text_1\">\r\n      <!-- −1 -->\r\n      <g transform=\"translate(32.523438 53.247128)scale(0.1 -0.1)\">\r\n       <defs>\r\n        <path d=\"M 6.5 34.71875 \r\nL 61.28125 34.71875 \r\nL 61.28125 29 \r\nL 6.5 29 \r\nz\r\n\" id=\"IPAexGothic-8722\"/>\r\n        <path d=\"M 38.484375 0.984375 \r\nL 29.6875 0.984375 \r\nL 29.6875 64.109375 \r\nQ 21.4375 61.28125 12.3125 59.328125 \r\nL 10.6875 66.109375 \r\nQ 23.734375 69.390625 32.90625 73.921875 \r\nL 38.484375 73.921875 \r\nz\r\n\" id=\"IPAexGothic-49\"/>\r\n       </defs>\r\n       <use xlink:href=\"#IPAexGothic-8722\"/>\r\n       <use x=\"67.822266\" xlink:href=\"#IPAexGothic-49\"/>\r\n      </g>\r\n     </g>\r\n    </g>\r\n    <g id=\"ytick_2\">\r\n     <g id=\"line2d_2\">\r\n      <g>\r\n       <use style=\"stroke:#000000;stroke-width:0.8;\" x=\"52.604688\" xlink:href=\"#m6bf29be7e2\" y=\"30.223564\"/>\r\n      </g>\r\n     </g>\r\n     <g id=\"text_2\">\r\n      <!-- 0 -->\r\n      <g transform=\"translate(39.30625 33.968876)scale(0.1 -0.1)\">\r\n       <defs>\r\n        <path d=\"M 31.84375 73.828125 \r\nQ 45.015625 73.828125 52.09375 61.625 \r\nQ 57.71875 51.953125 57.71875 36.625 \r\nQ 57.71875 21.4375 52.09375 11.578125 \r\nQ 45.125 -0.484375 31.5 -0.484375 \r\nQ 17.921875 -0.484375 10.9375 11.578125 \r\nQ 5.328125 21.4375 5.328125 36.71875 \r\nQ 5.328125 58.015625 15.625 67.71875 \r\nQ 22.171875 73.828125 31.84375 73.828125 \r\nz\r\nM 31.5 66.65625 \r\nQ 23.6875 66.65625 19.1875 58.734375 \r\nQ 14.59375 50.734375 14.59375 36.625 \r\nQ 14.59375 22.75 19.09375 14.796875 \r\nQ 23.640625 6.984375 31.5 6.984375 \r\nQ 40.921875 6.984375 45.453125 18.015625 \r\nQ 48.4375 25.34375 48.4375 37.109375 \r\nQ 48.4375 50.875 43.84375 58.734375 \r\nQ 39.203125 66.65625 31.5 66.65625 \r\nz\r\n\" id=\"IPAexGothic-48\"/>\r\n       </defs>\r\n       <use xlink:href=\"#IPAexGothic-48\"/>\r\n      </g>\r\n     </g>\r\n    </g>\r\n    <g id=\"ytick_3\">\r\n     <g id=\"line2d_3\">\r\n      <g>\r\n       <use style=\"stroke:#000000;stroke-width:0.8;\" x=\"52.604688\" xlink:href=\"#m6bf29be7e2\" y=\"10.945313\"/>\r\n      </g>\r\n     </g>\r\n     <g id=\"text_3\">\r\n      <!-- 1 -->\r\n      <g transform=\"translate(39.30625 14.690625)scale(0.1 -0.1)\">\r\n       <use xlink:href=\"#IPAexGothic-49\"/>\r\n      </g>\r\n     </g>\r\n    </g>\r\n    <g id=\"text_4\">\r\n     <!-- $(u_t)_1$ -->\r\n     <g transform=\"translate(25.483438 47.823563)rotate(-90)scale(0.16 -0.16)\">\r\n      <defs>\r\n       <path d=\"M 31 75.875 \r\nQ 24.46875 64.65625 21.28125 53.65625 \r\nQ 18.109375 42.671875 18.109375 31.390625 \r\nQ 18.109375 20.125 21.3125 9.0625 \r\nQ 24.515625 -2 31 -13.1875 \r\nL 23.1875 -13.1875 \r\nQ 15.875 -1.703125 12.234375 9.375 \r\nQ 8.59375 20.453125 8.59375 31.390625 \r\nQ 8.59375 42.28125 12.203125 53.3125 \r\nQ 15.828125 64.359375 23.1875 75.875 \r\nz\r\n\" id=\"DejaVuSans-40\"/>\r\n       <path d=\"M 6.6875 21.6875 \r\nL 13.09375 54.6875 \r\nL 22.125 54.6875 \r\nL 15.71875 22.015625 \r\nQ 15.234375 19.625 15.015625 17.921875 \r\nQ 14.796875 16.21875 14.796875 15.09375 \r\nQ 14.796875 10.9375 17.328125 8.65625 \r\nQ 19.875 6.390625 24.515625 6.390625 \r\nQ 31.734375 6.390625 37 11.265625 \r\nQ 42.28125 16.15625 43.890625 24.421875 \r\nL 49.90625 54.6875 \r\nL 58.890625 54.6875 \r\nL 48.296875 0 \r\nL 39.3125 0 \r\nL 41.109375 8.59375 \r\nQ 37.3125 3.8125 32.0625 1.1875 \r\nQ 26.8125 -1.421875 20.90625 -1.421875 \r\nQ 13.71875 -1.421875 9.71875 2.515625 \r\nQ 5.71875 6.453125 5.71875 13.484375 \r\nQ 5.71875 14.9375 5.953125 17.140625 \r\nQ 6.203125 19.34375 6.6875 21.6875 \r\nz\r\n\" id=\"DejaVuSans-Oblique-117\"/>\r\n       <path d=\"M 42.28125 54.6875 \r\nL 40.921875 47.703125 \r\nL 23 47.703125 \r\nL 17.1875 18.015625 \r\nQ 16.890625 16.359375 16.75 15.234375 \r\nQ 16.609375 14.109375 16.609375 13.484375 \r\nQ 16.609375 10.359375 18.484375 8.9375 \r\nQ 20.359375 7.515625 24.515625 7.515625 \r\nL 33.59375 7.515625 \r\nL 32.078125 0 \r\nL 23.484375 0 \r\nQ 15.484375 0 11.546875 3.125 \r\nQ 7.625 6.25 7.625 12.59375 \r\nQ 7.625 13.71875 7.765625 15.0625 \r\nQ 7.90625 16.40625 8.203125 18.015625 \r\nL 14.015625 47.703125 \r\nL 6.390625 47.703125 \r\nL 7.8125 54.6875 \r\nL 15.28125 54.6875 \r\nL 18.3125 70.21875 \r\nL 27.296875 70.21875 \r\nL 24.3125 54.6875 \r\nz\r\n\" id=\"DejaVuSans-Oblique-116\"/>\r\n       <path d=\"M 8.015625 75.875 \r\nL 15.828125 75.875 \r\nQ 23.140625 64.359375 26.78125 53.3125 \r\nQ 30.421875 42.28125 30.421875 31.390625 \r\nQ 30.421875 20.453125 26.78125 9.375 \r\nQ 23.140625 -1.703125 15.828125 -13.1875 \r\nL 8.015625 -13.1875 \r\nQ 14.5 -2 17.703125 9.0625 \r\nQ 20.90625 20.125 20.90625 31.390625 \r\nQ 20.90625 42.671875 17.703125 53.65625 \r\nQ 14.5 64.65625 8.015625 75.875 \r\nz\r\n\" id=\"DejaVuSans-41\"/>\r\n       <path d=\"M 12.40625 8.296875 \r\nL 28.515625 8.296875 \r\nL 28.515625 63.921875 \r\nL 10.984375 60.40625 \r\nL 10.984375 69.390625 \r\nL 28.421875 72.90625 \r\nL 38.28125 72.90625 \r\nL 38.28125 8.296875 \r\nL 54.390625 8.296875 \r\nL 54.390625 0 \r\nL 12.40625 0 \r\nz\r\n\" id=\"DejaVuSans-49\"/>\r\n      </defs>\r\n      <use transform=\"translate(0 0.125)\" xlink:href=\"#DejaVuSans-40\"/>\r\n      <use transform=\"translate(39.013672 0.125)\" xlink:href=\"#DejaVuSans-Oblique-117\"/>\r\n      <use transform=\"translate(102.392578 -16.28125)scale(0.7)\" xlink:href=\"#DejaVuSans-Oblique-116\"/>\r\n      <use transform=\"translate(132.573242 0.125)\" xlink:href=\"#DejaVuSans-41\"/>\r\n      <use transform=\"translate(172.543945 -16.28125)scale(0.7)\" xlink:href=\"#DejaVuSans-49\"/>\r\n     </g>\r\n    </g>\r\n   </g>\r\n   <g id=\"line2d_4\">\r\n    <path clip-path=\"url(#p9110e4ed59)\" d=\"M 69.047869 10.945312 \r\nL 75.759372 10.945311 \r\nL 82.470875 48.87924 \r\nL 89.182378 49.501815 \r\nL 95.89388 49.501815 \r\nL 102.605383 33.48849 \r\nL 109.316886 10.945313 \r\nL 116.028389 10.945313 \r\nL 122.739892 10.945313 \r\nL 129.451394 10.945313 \r\nL 136.162897 10.945313 \r\nL 142.8744 10.945313 \r\nL 149.585903 10.945313 \r\nL 156.297405 10.945313 \r\nL 163.008908 10.945313 \r\nL 169.720411 10.945313 \r\nL 176.431914 29.295512 \r\nL 183.143417 49.501815 \r\nL 189.854919 49.501815 \r\nL 196.566422 49.501815 \r\nL 203.277925 49.501815 \r\nL 209.989428 49.501815 \r\nL 216.700931 49.501815 \r\nL 223.412433 49.501815 \r\nL 230.123936 49.501815 \r\nL 236.835439 49.501815 \r\nL 243.546942 49.501815 \r\nL 250.258444 49.501815 \r\nL 256.969947 49.501814 \r\nL 263.68145 49.501814 \r\nL 270.392953 49.501814 \r\nL 277.104456 49.501814 \r\nL 283.815958 49.501814 \r\nL 290.527461 49.501814 \r\nL 297.238964 49.501813 \r\nL 303.950467 49.501813 \r\nL 310.66197 49.501812 \r\nL 317.373472 49.501812 \r\nL 324.084975 49.501811 \r\nL 330.796478 49.50181 \r\nL 337.507981 49.501807 \r\nL 344.219483 49.501803 \r\nL 350.930986 49.501794 \r\nL 357.642489 49.501763 \r\nL 364.353992 49.501484 \r\nL 371.065495 24.10079 \r\nL 377.776997 19.173001 \r\nL 384.4885 29.49174 \r\nL 391.200003 49.500983 \r\nL 397.911506 21.149566 \r\n\" style=\"fill:none;stroke:#1f77b4;stroke-linecap:square;stroke-width:1.5;\"/>\r\n   </g>\r\n   <g id=\"patch_3\">\r\n    <path d=\"M 52.604688 51.429641 \r\nL 52.604688 9.017486 \r\n\" style=\"fill:none;stroke:#000000;stroke-linecap:square;stroke-linejoin:miter;stroke-width:0.8;\"/>\r\n   </g>\r\n   <g id=\"patch_4\">\r\n    <path d=\"M 414.354688 51.429641 \r\nL 414.354688 9.017486 \r\n\" style=\"fill:none;stroke:#000000;stroke-linecap:square;stroke-linejoin:miter;stroke-width:0.8;\"/>\r\n   </g>\r\n   <g id=\"patch_5\">\r\n    <path d=\"M 52.604688 51.429641 \r\nL 414.354688 51.429641 \r\n\" style=\"fill:none;stroke:#000000;stroke-linecap:square;stroke-linejoin:miter;stroke-width:0.8;\"/>\r\n   </g>\r\n   <g id=\"patch_6\">\r\n    <path d=\"M 52.604688 9.017486 \r\nL 414.354688 9.017486 \r\n\" style=\"fill:none;stroke:#000000;stroke-linecap:square;stroke-linejoin:miter;stroke-width:0.8;\"/>\r\n   </g>\r\n  </g>\r\n  <g id=\"axes_2\">\r\n   <g id=\"patch_7\">\r\n    <path d=\"M 52.604688 113.641795 \r\nL 414.354688 113.641795 \r\nL 414.354688 71.229641 \r\nL 52.604688 71.229641 \r\nz\r\n\" style=\"fill:#ffffff;\"/>\r\n   </g>\r\n   <g id=\"matplotlib.axis_3\"/>\r\n   <g id=\"matplotlib.axis_4\">\r\n    <g id=\"ytick_4\">\r\n     <g id=\"line2d_5\">\r\n      <g>\r\n       <use style=\"stroke:#000000;stroke-width:0.8;\" x=\"52.604688\" xlink:href=\"#m6bf29be7e2\" y=\"111.71397\"/>\r\n      </g>\r\n     </g>\r\n     <g id=\"text_5\">\r\n      <!-- −1 -->\r\n      <g transform=\"translate(32.523438 115.459283)scale(0.1 -0.1)\">\r\n       <use xlink:href=\"#IPAexGothic-8722\"/>\r\n       <use x=\"67.822266\" xlink:href=\"#IPAexGothic-49\"/>\r\n      </g>\r\n     </g>\r\n    </g>\r\n    <g id=\"ytick_5\">\r\n     <g id=\"line2d_6\">\r\n      <g>\r\n       <use style=\"stroke:#000000;stroke-width:0.8;\" x=\"52.604688\" xlink:href=\"#m6bf29be7e2\" y=\"92.435718\"/>\r\n      </g>\r\n     </g>\r\n     <g id=\"text_6\">\r\n      <!-- 0 -->\r\n      <g transform=\"translate(39.30625 96.181031)scale(0.1 -0.1)\">\r\n       <use xlink:href=\"#IPAexGothic-48\"/>\r\n      </g>\r\n     </g>\r\n    </g>\r\n    <g id=\"ytick_6\">\r\n     <g id=\"line2d_7\">\r\n      <g>\r\n       <use style=\"stroke:#000000;stroke-width:0.8;\" x=\"52.604688\" xlink:href=\"#m6bf29be7e2\" y=\"73.157466\"/>\r\n      </g>\r\n     </g>\r\n     <g id=\"text_7\">\r\n      <!-- 1 -->\r\n      <g transform=\"translate(39.30625 76.902779)scale(0.1 -0.1)\">\r\n       <use xlink:href=\"#IPAexGothic-49\"/>\r\n      </g>\r\n     </g>\r\n    </g>\r\n    <g id=\"text_8\">\r\n     <!-- $(u_t)_2$ -->\r\n     <g transform=\"translate(25.483438 110.035718)rotate(-90)scale(0.16 -0.16)\">\r\n      <defs>\r\n       <path d=\"M 19.1875 8.296875 \r\nL 53.609375 8.296875 \r\nL 53.609375 0 \r\nL 7.328125 0 \r\nL 7.328125 8.296875 \r\nQ 12.9375 14.109375 22.625 23.890625 \r\nQ 32.328125 33.6875 34.8125 36.53125 \r\nQ 39.546875 41.84375 41.421875 45.53125 \r\nQ 43.3125 49.21875 43.3125 52.78125 \r\nQ 43.3125 58.59375 39.234375 62.25 \r\nQ 35.15625 65.921875 28.609375 65.921875 \r\nQ 23.96875 65.921875 18.8125 64.3125 \r\nQ 13.671875 62.703125 7.8125 59.421875 \r\nL 7.8125 69.390625 \r\nQ 13.765625 71.78125 18.9375 73 \r\nQ 24.125 74.21875 28.421875 74.21875 \r\nQ 39.75 74.21875 46.484375 68.546875 \r\nQ 53.21875 62.890625 53.21875 53.421875 \r\nQ 53.21875 48.921875 51.53125 44.890625 \r\nQ 49.859375 40.875 45.40625 35.40625 \r\nQ 44.1875 33.984375 37.640625 27.21875 \r\nQ 31.109375 20.453125 19.1875 8.296875 \r\nz\r\n\" id=\"DejaVuSans-50\"/>\r\n      </defs>\r\n      <use transform=\"translate(0 0.125)\" xlink:href=\"#DejaVuSans-40\"/>\r\n      <use transform=\"translate(39.013672 0.125)\" xlink:href=\"#DejaVuSans-Oblique-117\"/>\r\n      <use transform=\"translate(102.392578 -16.28125)scale(0.7)\" xlink:href=\"#DejaVuSans-Oblique-116\"/>\r\n      <use transform=\"translate(132.573242 0.125)\" xlink:href=\"#DejaVuSans-41\"/>\r\n      <use transform=\"translate(172.543945 -16.28125)scale(0.7)\" xlink:href=\"#DejaVuSans-50\"/>\r\n     </g>\r\n    </g>\r\n   </g>\r\n   <g id=\"line2d_8\">\r\n    <path clip-path=\"url(#p4dfdf8fb47)\" d=\"M 69.047869 73.157467 \r\nL 75.759372 73.157466 \r\nL 82.470875 73.157466 \r\nL 89.182378 73.157466 \r\nL 95.89388 111.713969 \r\nL 102.605383 111.71397 \r\nL 109.316886 111.71397 \r\nL 116.028389 111.71397 \r\nL 122.739892 111.71397 \r\nL 129.451394 111.71397 \r\nL 136.162897 111.71397 \r\nL 142.8744 111.71397 \r\nL 149.585903 111.71397 \r\nL 156.297405 110.658156 \r\nL 163.008908 73.157467 \r\nL 169.720411 73.157467 \r\nL 176.431914 73.157467 \r\nL 183.143417 73.157467 \r\nL 189.854919 73.157467 \r\nL 196.566422 73.157467 \r\nL 203.277925 73.157467 \r\nL 209.989428 73.157467 \r\nL 216.700931 73.157467 \r\nL 223.412433 73.157467 \r\nL 230.123936 73.157467 \r\nL 236.835439 73.157467 \r\nL 243.546942 73.157467 \r\nL 250.258444 73.157468 \r\nL 256.969947 73.157468 \r\nL 263.68145 73.157468 \r\nL 270.392953 73.157468 \r\nL 277.104456 73.157469 \r\nL 283.815958 73.157469 \r\nL 290.527461 73.15747 \r\nL 297.238964 73.157471 \r\nL 303.950467 73.157474 \r\nL 310.66197 73.157481 \r\nL 317.373472 73.157508 \r\nL 324.084975 73.658965 \r\nL 330.796478 97.933723 \r\nL 337.507981 99.561714 \r\nL 344.219483 100.927607 \r\nL 350.930986 103.286037 \r\nL 357.642489 105.59872 \r\nL 364.353992 105.653812 \r\nL 371.065495 99.792061 \r\nL 377.776997 96.393651 \r\nL 384.4885 81.070113 \r\nL 391.200003 73.157759 \r\nL 397.911506 106.171127 \r\n\" style=\"fill:none;stroke:#1f77b4;stroke-linecap:square;stroke-width:1.5;\"/>\r\n   </g>\r\n   <g id=\"patch_8\">\r\n    <path d=\"M 52.604688 113.641795 \r\nL 52.604688 71.229641 \r\n\" style=\"fill:none;stroke:#000000;stroke-linecap:square;stroke-linejoin:miter;stroke-width:0.8;\"/>\r\n   </g>\r\n   <g id=\"patch_9\">\r\n    <path d=\"M 414.354688 113.641795 \r\nL 414.354688 71.229641 \r\n\" style=\"fill:none;stroke:#000000;stroke-linecap:square;stroke-linejoin:miter;stroke-width:0.8;\"/>\r\n   </g>\r\n   <g id=\"patch_10\">\r\n    <path d=\"M 52.604688 113.641795 \r\nL 414.354688 113.641795 \r\n\" style=\"fill:none;stroke:#000000;stroke-linecap:square;stroke-linejoin:miter;stroke-width:0.8;\"/>\r\n   </g>\r\n   <g id=\"patch_11\">\r\n    <path d=\"M 52.604688 71.229641 \r\nL 414.354688 71.229641 \r\n\" style=\"fill:none;stroke:#000000;stroke-linecap:square;stroke-linejoin:miter;stroke-width:0.8;\"/>\r\n   </g>\r\n  </g>\r\n  <g id=\"axes_3\">\r\n   <g id=\"patch_12\">\r\n    <path d=\"M 52.604688 175.85395 \r\nL 414.354688 175.85395 \r\nL 414.354688 133.441795 \r\nL 52.604688 133.441795 \r\nz\r\n\" style=\"fill:#ffffff;\"/>\r\n   </g>\r\n   <g id=\"matplotlib.axis_5\"/>\r\n   <g id=\"matplotlib.axis_6\">\r\n    <g id=\"ytick_7\">\r\n     <g id=\"line2d_9\">\r\n      <g>\r\n       <use style=\"stroke:#000000;stroke-width:0.8;\" x=\"52.604688\" xlink:href=\"#m6bf29be7e2\" y=\"175.85395\"/>\r\n      </g>\r\n     </g>\r\n     <g id=\"text_9\">\r\n      <!-- −10 -->\r\n      <g transform=\"translate(26.225 179.599262)scale(0.1 -0.1)\">\r\n       <use xlink:href=\"#IPAexGothic-8722\"/>\r\n       <use x=\"67.822266\" xlink:href=\"#IPAexGothic-49\"/>\r\n       <use x=\"130.810547\" xlink:href=\"#IPAexGothic-48\"/>\r\n      </g>\r\n     </g>\r\n    </g>\r\n    <g id=\"ytick_8\">\r\n     <g id=\"line2d_10\">\r\n      <g>\r\n       <use style=\"stroke:#000000;stroke-width:0.8;\" x=\"52.604688\" xlink:href=\"#m6bf29be7e2\" y=\"154.647872\"/>\r\n      </g>\r\n     </g>\r\n     <g id=\"text_10\">\r\n      <!-- 0 -->\r\n      <g transform=\"translate(39.30625 158.393185)scale(0.1 -0.1)\">\r\n       <use xlink:href=\"#IPAexGothic-48\"/>\r\n      </g>\r\n     </g>\r\n    </g>\r\n    <g id=\"ytick_9\">\r\n     <g id=\"line2d_11\">\r\n      <g>\r\n       <use style=\"stroke:#000000;stroke-width:0.8;\" x=\"52.604688\" xlink:href=\"#m6bf29be7e2\" y=\"133.441795\"/>\r\n      </g>\r\n     </g>\r\n     <g id=\"text_11\">\r\n      <!-- 10 -->\r\n      <g transform=\"translate(33.007812 137.187108)scale(0.1 -0.1)\">\r\n       <use xlink:href=\"#IPAexGothic-49\"/>\r\n       <use x=\"62.988281\" xlink:href=\"#IPAexGothic-48\"/>\r\n      </g>\r\n     </g>\r\n    </g>\r\n    <g id=\"text_12\">\r\n     <!-- $(x_t)_1$ -->\r\n     <g transform=\"translate(19.185 171.927872)rotate(-90)scale(0.16 -0.16)\">\r\n      <defs>\r\n       <path d=\"M 60.015625 54.6875 \r\nL 34.90625 27.875 \r\nL 50.296875 0 \r\nL 39.984375 0 \r\nL 28.421875 21.6875 \r\nL 8.296875 0 \r\nL -2.59375 0 \r\nL 24.3125 28.8125 \r\nL 10.015625 54.6875 \r\nL 20.3125 54.6875 \r\nL 30.8125 34.90625 \r\nL 49.125 54.6875 \r\nz\r\n\" id=\"DejaVuSans-Oblique-120\"/>\r\n      </defs>\r\n      <use transform=\"translate(0 0.125)\" xlink:href=\"#DejaVuSans-40\"/>\r\n      <use transform=\"translate(39.013672 0.125)\" xlink:href=\"#DejaVuSans-Oblique-120\"/>\r\n      <use transform=\"translate(98.193359 -16.28125)scale(0.7)\" xlink:href=\"#DejaVuSans-Oblique-116\"/>\r\n      <use transform=\"translate(128.374023 0.125)\" xlink:href=\"#DejaVuSans-41\"/>\r\n      <use transform=\"translate(168.344727 -16.28125)scale(0.7)\" xlink:href=\"#DejaVuSans-49\"/>\r\n     </g>\r\n    </g>\r\n   </g>\r\n   <g id=\"line2d_12\">\r\n    <path clip-path=\"url(#peac767083d)\" d=\"M 69.047869 157.005226 \r\nL 75.625142 161.08477 \r\nL 82.202415 165.416295 \r\nL 88.779688 171.144658 \r\nL 95.35696 173.99795 \r\nL 101.934233 172.10888 \r\nL 108.511506 168.661048 \r\nL 115.088778 163.965906 \r\nL 121.666051 160.012641 \r\nL 128.243324 156.796885 \r\nL 134.820597 154.19624 \r\nL 141.397869 152.090901 \r\nL 147.975142 150.509237 \r\nL 154.552415 149.776432 \r\nL 161.129688 150.659475 \r\nL 167.70696 154.611568 \r\nL 174.284233 157.798051 \r\nL 180.861506 161.211851 \r\nL 187.438778 164.443641 \r\nL 194.016051 165.98222 \r\nL 200.593324 166.120675 \r\nL 207.170597 165.254991 \r\nL 213.747869 163.799655 \r\nL 220.325142 162.119896 \r\nL 226.902415 160.490815 \r\nL 233.479688 159.084255 \r\nL 240.05696 157.97826 \r\nL 246.634233 157.181046 \r\nL 253.211506 156.661066 \r\nL 259.788778 156.375959 \r\nL 266.366051 156.295239 \r\nL 272.943324 156.413673 \r\nL 279.520597 156.753989 \r\nL 286.097869 157.358562 \r\nL 292.675142 158.270105 \r\nL 299.252415 159.501193 \r\nL 305.829688 160.992085 \r\nL 312.40696 162.556092 \r\nL 318.984233 163.812222 \r\nL 325.561506 164.102293 \r\nL 332.138778 162.288091 \r\nL 338.716051 160.611487 \r\nL 345.293324 158.966738 \r\nL 351.870597 157.239231 \r\nL 358.447869 155.560459 \r\nL 365.025142 154.339813 \r\nL 371.602415 152.750781 \r\nL 378.179688 152.428353 \r\nL 384.75696 154.366195 \r\nL 391.334233 156.808877 \r\nL 397.911506 154.647872 \r\n\" style=\"fill:none;stroke:#1f77b4;stroke-linecap:square;stroke-width:1.5;\"/>\r\n   </g>\r\n   <g id=\"patch_13\">\r\n    <path d=\"M 52.604688 175.85395 \r\nL 52.604688 133.441795 \r\n\" style=\"fill:none;stroke:#000000;stroke-linecap:square;stroke-linejoin:miter;stroke-width:0.8;\"/>\r\n   </g>\r\n   <g id=\"patch_14\">\r\n    <path d=\"M 414.354688 175.85395 \r\nL 414.354688 133.441795 \r\n\" style=\"fill:none;stroke:#000000;stroke-linecap:square;stroke-linejoin:miter;stroke-width:0.8;\"/>\r\n   </g>\r\n   <g id=\"patch_15\">\r\n    <path d=\"M 52.604688 175.85395 \r\nL 414.354688 175.85395 \r\n\" style=\"fill:none;stroke:#000000;stroke-linecap:square;stroke-linejoin:miter;stroke-width:0.8;\"/>\r\n   </g>\r\n   <g id=\"patch_16\">\r\n    <path d=\"M 52.604688 133.441795 \r\nL 414.354688 133.441795 \r\n\" style=\"fill:none;stroke:#000000;stroke-linecap:square;stroke-linejoin:miter;stroke-width:0.8;\"/>\r\n   </g>\r\n  </g>\r\n  <g id=\"axes_4\">\r\n   <g id=\"patch_17\">\r\n    <path d=\"M 52.604688 238.066104 \r\nL 414.354688 238.066104 \r\nL 414.354688 195.65395 \r\nL 52.604688 195.65395 \r\nz\r\n\" style=\"fill:#ffffff;\"/>\r\n   </g>\r\n   <g id=\"matplotlib.axis_7\">\r\n    <g id=\"xtick_1\">\r\n     <g id=\"line2d_13\">\r\n      <defs>\r\n       <path d=\"M 0 0 \r\nL 0 3.5 \r\n\" id=\"mabd862ed07\" style=\"stroke:#000000;stroke-width:0.8;\"/>\r\n      </defs>\r\n      <g>\r\n       <use style=\"stroke:#000000;stroke-width:0.8;\" x=\"69.047869\" xlink:href=\"#mabd862ed07\" y=\"238.066104\"/>\r\n      </g>\r\n     </g>\r\n     <g id=\"text_13\">\r\n      <!-- 0 -->\r\n      <g transform=\"translate(65.898651 252.556729)scale(0.1 -0.1)\">\r\n       <use xlink:href=\"#IPAexGothic-48\"/>\r\n      </g>\r\n     </g>\r\n    </g>\r\n    <g id=\"xtick_2\">\r\n     <g id=\"line2d_14\">\r\n      <g>\r\n       <use style=\"stroke:#000000;stroke-width:0.8;\" x=\"134.820597\" xlink:href=\"#mabd862ed07\" y=\"238.066104\"/>\r\n      </g>\r\n     </g>\r\n     <g id=\"text_14\">\r\n      <!-- 10 -->\r\n      <g transform=\"translate(128.522159 252.556729)scale(0.1 -0.1)\">\r\n       <use xlink:href=\"#IPAexGothic-49\"/>\r\n       <use x=\"62.988281\" xlink:href=\"#IPAexGothic-48\"/>\r\n      </g>\r\n     </g>\r\n    </g>\r\n    <g id=\"xtick_3\">\r\n     <g id=\"line2d_15\">\r\n      <g>\r\n       <use style=\"stroke:#000000;stroke-width:0.8;\" x=\"200.593324\" xlink:href=\"#mabd862ed07\" y=\"238.066104\"/>\r\n      </g>\r\n     </g>\r\n     <g id=\"text_15\">\r\n      <!-- 20 -->\r\n      <g transform=\"translate(194.294886 252.556729)scale(0.1 -0.1)\">\r\n       <defs>\r\n        <path d=\"M 57.171875 0.984375 \r\nL 6.984375 0.984375 \r\nL 6.984375 9.28125 \r\nQ 12.890625 23.046875 29.59375 34.421875 \r\nL 32.375 36.28125 \r\nQ 40.921875 42.140625 43.609375 45.40625 \r\nQ 46.6875 49.265625 46.6875 53.8125 \r\nQ 46.6875 58.9375 43.0625 62.546875 \r\nQ 39.0625 66.546875 32.5625 66.546875 \r\nQ 19.53125 66.546875 15.484375 52 \r\nL 7.765625 54.78125 \r\nQ 13.328125 73.828125 33.0625 73.828125 \r\nQ 43.84375 73.828125 50.25 67.4375 \r\nQ 55.859375 61.671875 55.859375 53.515625 \r\nQ 55.859375 47.46875 52.25 42.53125 \r\nQ 48.921875 37.75 36.96875 30.28125 \r\nL 34.859375 29 \r\nQ 19.625 19.578125 15.28125 8.890625 \r\nL 57.171875 8.890625 \r\nz\r\n\" id=\"IPAexGothic-50\"/>\r\n       </defs>\r\n       <use xlink:href=\"#IPAexGothic-50\"/>\r\n       <use x=\"62.988281\" xlink:href=\"#IPAexGothic-48\"/>\r\n      </g>\r\n     </g>\r\n    </g>\r\n    <g id=\"xtick_4\">\r\n     <g id=\"line2d_16\">\r\n      <g>\r\n       <use style=\"stroke:#000000;stroke-width:0.8;\" x=\"266.366051\" xlink:href=\"#mabd862ed07\" y=\"238.066104\"/>\r\n      </g>\r\n     </g>\r\n     <g id=\"text_16\">\r\n      <!-- 30 -->\r\n      <g transform=\"translate(260.067614 252.556729)scale(0.1 -0.1)\">\r\n       <defs>\r\n        <path d=\"M 37.203125 37.796875 \r\nQ 54.78125 34.625 54.78125 19.96875 \r\nQ 54.78125 11.1875 48.875 5.5625 \r\nQ 42.328125 -0.484375 30.375 -0.484375 \r\nQ 12.453125 -0.484375 4.5 13.765625 \r\nL 11.8125 17.671875 \r\nQ 17.328125 6.890625 30.28125 6.890625 \r\nQ 37.890625 6.890625 42.09375 10.796875 \r\nQ 46.09375 14.5 46.09375 20.171875 \r\nQ 46.09375 26.859375 40.09375 30.90625 \r\nQ 34.625 34.578125 25.6875 34.578125 \r\nL 21.296875 34.578125 \r\nL 21.296875 41.703125 \r\nL 25.875 41.703125 \r\nQ 34.859375 41.703125 39.59375 45.125 \r\nQ 44.671875 48.734375 44.671875 54.828125 \r\nQ 44.671875 61.46875 38.96875 64.65625 \r\nQ 35.296875 66.84375 30.171875 66.84375 \r\nQ 19.34375 66.84375 14.109375 55.90625 \r\nL 6.78125 59.421875 \r\nQ 14.015625 73.828125 30.28125 73.828125 \r\nQ 40.578125 73.828125 46.96875 68.65625 \r\nQ 53.375 63.578125 53.375 55.21875 \r\nQ 53.375 47.3125 47.171875 42.28125 \r\nQ 43.171875 39.0625 37.203125 38.1875 \r\nz\r\n\" id=\"IPAexGothic-51\"/>\r\n       </defs>\r\n       <use xlink:href=\"#IPAexGothic-51\"/>\r\n       <use x=\"62.988281\" xlink:href=\"#IPAexGothic-48\"/>\r\n      </g>\r\n     </g>\r\n    </g>\r\n    <g id=\"xtick_5\">\r\n     <g id=\"line2d_17\">\r\n      <g>\r\n       <use style=\"stroke:#000000;stroke-width:0.8;\" x=\"332.138778\" xlink:href=\"#mabd862ed07\" y=\"238.066104\"/>\r\n      </g>\r\n     </g>\r\n     <g id=\"text_17\">\r\n      <!-- 40 -->\r\n      <g transform=\"translate(325.840341 252.556729)scale(0.1 -0.1)\">\r\n       <defs>\r\n        <path d=\"M 59.578125 18.109375 \r\nL 47.796875 18.109375 \r\nL 47.796875 0.984375 \r\nL 39.796875 0.984375 \r\nL 39.796875 18.109375 \r\nL 3.078125 18.109375 \r\nL 3.078125 26.125 \r\nL 38.375 73.09375 \r\nL 47.796875 73.09375 \r\nL 47.796875 25.53125 \r\nL 59.578125 25.53125 \r\nz\r\nM 40.28125 64.203125 \r\nL 39.984375 64.203125 \r\nQ 35.59375 57.125 31.296875 51.3125 \r\nL 11.859375 25.53125 \r\nL 39.796875 25.53125 \r\nL 39.796875 49.125 \r\nQ 39.796875 54.390625 40.28125 64.203125 \r\nz\r\n\" id=\"IPAexGothic-52\"/>\r\n       </defs>\r\n       <use xlink:href=\"#IPAexGothic-52\"/>\r\n       <use x=\"62.988281\" xlink:href=\"#IPAexGothic-48\"/>\r\n      </g>\r\n     </g>\r\n    </g>\r\n    <g id=\"xtick_6\">\r\n     <g id=\"line2d_18\">\r\n      <g>\r\n       <use style=\"stroke:#000000;stroke-width:0.8;\" x=\"397.911506\" xlink:href=\"#mabd862ed07\" y=\"238.066104\"/>\r\n      </g>\r\n     </g>\r\n     <g id=\"text_18\">\r\n      <!-- 50 -->\r\n      <g transform=\"translate(391.613068 252.556729)scale(0.1 -0.1)\">\r\n       <defs>\r\n        <path d=\"M 18.40625 40.671875 \r\nQ 25.53125 46.296875 33.9375 46.296875 \r\nQ 44 46.296875 50.640625 39.5 \r\nQ 56.84375 33.015625 56.84375 23.390625 \r\nQ 56.84375 14.65625 51.515625 8.015625 \r\nQ 44.828125 -0.484375 31.734375 -0.484375 \r\nQ 14.984375 -0.484375 7.328125 12.25 \r\nL 14.65625 16.0625 \r\nQ 20.453125 6.78125 31.453125 6.78125 \r\nQ 38.53125 6.78125 43.265625 11.1875 \r\nQ 48.140625 15.828125 48.140625 23.484375 \r\nQ 48.140625 30.71875 43.84375 35.015625 \r\nQ 39.359375 39.5 32.125 39.5 \r\nQ 21.96875 39.5 16.75 31.6875 \r\nL 9.234375 32.671875 \r\nL 13.8125 72.40625 \r\nL 53.21875 72.40625 \r\nL 53.21875 64.890625 \r\nL 20.953125 64.890625 \r\nL 17.71875 40.671875 \r\nz\r\n\" id=\"IPAexGothic-53\"/>\r\n       </defs>\r\n       <use xlink:href=\"#IPAexGothic-53\"/>\r\n       <use x=\"62.988281\" xlink:href=\"#IPAexGothic-48\"/>\r\n      </g>\r\n     </g>\r\n    </g>\r\n    <g id=\"text_19\">\r\n     <!-- $t$ -->\r\n     <g transform=\"translate(230.279688 270.441729)scale(0.16 -0.16)\">\r\n      <use transform=\"translate(0 0.78125)\" xlink:href=\"#DejaVuSans-Oblique-116\"/>\r\n     </g>\r\n    </g>\r\n   </g>\r\n   <g id=\"matplotlib.axis_8\">\r\n    <g id=\"ytick_10\">\r\n     <g id=\"line2d_19\">\r\n      <g>\r\n       <use style=\"stroke:#000000;stroke-width:0.8;\" x=\"52.604688\" xlink:href=\"#m6bf29be7e2\" y=\"238.066104\"/>\r\n      </g>\r\n     </g>\r\n     <g id=\"text_20\">\r\n      <!-- −25 -->\r\n      <g transform=\"translate(26.225 241.811417)scale(0.1 -0.1)\">\r\n       <use xlink:href=\"#IPAexGothic-8722\"/>\r\n       <use x=\"67.822266\" xlink:href=\"#IPAexGothic-50\"/>\r\n       <use x=\"130.810547\" xlink:href=\"#IPAexGothic-53\"/>\r\n      </g>\r\n     </g>\r\n    </g>\r\n    <g id=\"ytick_11\">\r\n     <g id=\"line2d_20\">\r\n      <g>\r\n       <use style=\"stroke:#000000;stroke-width:0.8;\" x=\"52.604688\" xlink:href=\"#m6bf29be7e2\" y=\"216.860027\"/>\r\n      </g>\r\n     </g>\r\n     <g id=\"text_21\">\r\n      <!-- 0 -->\r\n      <g transform=\"translate(39.30625 220.605339)scale(0.1 -0.1)\">\r\n       <use xlink:href=\"#IPAexGothic-48\"/>\r\n      </g>\r\n     </g>\r\n    </g>\r\n    <g id=\"ytick_12\">\r\n     <g id=\"line2d_21\">\r\n      <g>\r\n       <use style=\"stroke:#000000;stroke-width:0.8;\" x=\"52.604688\" xlink:href=\"#m6bf29be7e2\" y=\"195.65395\"/>\r\n      </g>\r\n     </g>\r\n     <g id=\"text_22\">\r\n      <!-- 25 -->\r\n      <g transform=\"translate(33.007812 199.399262)scale(0.1 -0.1)\">\r\n       <use xlink:href=\"#IPAexGothic-50\"/>\r\n       <use x=\"62.988281\" xlink:href=\"#IPAexGothic-53\"/>\r\n      </g>\r\n     </g>\r\n    </g>\r\n    <g id=\"text_23\">\r\n     <!-- $(x_t)_2$ -->\r\n     <g transform=\"translate(19.185 234.140027)rotate(-90)scale(0.16 -0.16)\">\r\n      <use transform=\"translate(0 0.125)\" xlink:href=\"#DejaVuSans-40\"/>\r\n      <use transform=\"translate(39.013672 0.125)\" xlink:href=\"#DejaVuSans-Oblique-120\"/>\r\n      <use transform=\"translate(98.193359 -16.28125)scale(0.7)\" xlink:href=\"#DejaVuSans-Oblique-116\"/>\r\n      <use transform=\"translate(128.374023 0.125)\" xlink:href=\"#DejaVuSans-41\"/>\r\n      <use transform=\"translate(168.344727 -16.28125)scale(0.7)\" xlink:href=\"#DejaVuSans-50\"/>\r\n     </g>\r\n    </g>\r\n   </g>\r\n   <g id=\"line2d_22\">\r\n    <path clip-path=\"url(#p90405aafe7)\" d=\"M 69.047869 217.711485 \r\nL 75.625142 217.055547 \r\nL 82.202415 215.642488 \r\nL 88.779688 215.207396 \r\nL 95.35696 215.480953 \r\nL 101.934233 218.717152 \r\nL 108.511506 221.217417 \r\nL 115.088778 222.482628 \r\nL 121.666051 223.194766 \r\nL 128.243324 223.932173 \r\nL 134.820597 225.031292 \r\nL 141.397869 226.630988 \r\nL 147.975142 228.722519 \r\nL 154.552415 231.196157 \r\nL 161.129688 233.804998 \r\nL 167.70696 233.891889 \r\nL 174.284233 233.936564 \r\nL 180.861506 234.156168 \r\nL 187.438778 234.976606 \r\nL 194.016051 235.8476 \r\nL 200.593324 236.379273 \r\nL 207.170597 236.421389 \r\nL 213.747869 235.987145 \r\nL 220.325142 235.18265 \r\nL 226.902415 234.148801 \r\nL 233.479688 233.019459 \r\nL 240.05696 231.896629 \r\nL 246.634233 230.84064 \r\nL 253.211506 229.87164 \r\nL 259.788778 228.978059 \r\nL 266.366051 228.127983 \r\nL 272.943324 227.280202 \r\nL 279.520597 226.392877 \r\nL 286.097869 225.428892 \r\nL 292.675142 224.357965 \r\nL 299.252415 223.156317 \r\nL 305.829688 221.805186 \r\nL 312.40696 220.28972 \r\nL 318.984233 218.599951 \r\nL 325.561506 216.769123 \r\nL 332.138778 216.403307 \r\nL 338.716051 215.877237 \r\nL 345.293324 215.49175 \r\nL 351.870597 215.541989 \r\nL 358.447869 216.186933 \r\nL 365.025142 217.416793 \r\nL 371.602415 217.721617 \r\nL 378.179688 217.279626 \r\nL 384.75696 216.017968 \r\nL 391.334233 215.53057 \r\nL 397.911506 216.860027 \r\n\" style=\"fill:none;stroke:#1f77b4;stroke-linecap:square;stroke-width:1.5;\"/>\r\n   </g>\r\n   <g id=\"patch_18\">\r\n    <path d=\"M 52.604688 238.066104 \r\nL 52.604688 195.65395 \r\n\" style=\"fill:none;stroke:#000000;stroke-linecap:square;stroke-linejoin:miter;stroke-width:0.8;\"/>\r\n   </g>\r\n   <g id=\"patch_19\">\r\n    <path d=\"M 414.354688 238.066104 \r\nL 414.354688 195.65395 \r\n\" style=\"fill:none;stroke:#000000;stroke-linecap:square;stroke-linejoin:miter;stroke-width:0.8;\"/>\r\n   </g>\r\n   <g id=\"patch_20\">\r\n    <path d=\"M 52.604688 238.066104 \r\nL 414.354688 238.066104 \r\n\" style=\"fill:none;stroke:#000000;stroke-linecap:square;stroke-linejoin:miter;stroke-width:0.8;\"/>\r\n   </g>\r\n   <g id=\"patch_21\">\r\n    <path d=\"M 52.604688 195.65395 \r\nL 414.354688 195.65395 \r\n\" style=\"fill:none;stroke:#000000;stroke-linecap:square;stroke-linejoin:miter;stroke-width:0.8;\"/>\r\n   </g>\r\n  </g>\r\n </g>\r\n <defs>\r\n  <clipPath id=\"p9110e4ed59\">\r\n   <rect height=\"42.412154\" width=\"361.75\" x=\"52.604688\" y=\"9.017486\"/>\r\n  </clipPath>\r\n  <clipPath id=\"p4dfdf8fb47\">\r\n   <rect height=\"42.412154\" width=\"361.75\" x=\"52.604688\" y=\"71.229641\"/>\r\n  </clipPath>\r\n  <clipPath id=\"peac767083d\">\r\n   <rect height=\"42.412154\" width=\"361.75\" x=\"52.604688\" y=\"133.441795\"/>\r\n  </clipPath>\r\n  <clipPath id=\"p90405aafe7\">\r\n   <rect height=\"42.412154\" width=\"361.75\" x=\"52.604688\" y=\"195.65395\"/>\r\n  </clipPath>\r\n </defs>\r\n</svg>\r\n"
     },
     "metadata": {
      "needs_background": "light"
     }
    }
   ],
   "source": [
    "import time\n",
    "import cvxpy as cp\n",
    "import numpy as np\n",
    "import matplotlib.pyplot as plt\n",
    "import constants\n",
    "print(\"Simulation start\")\n",
    "\n",
    "dt = constants.dt\n",
    "beta = constants.beta\n",
    "M11 = 86.80879\n",
    "M33 = 86.80879\n",
    "M55 = 86.80879*0.782**2\n",
    "\n",
    "#T=3\n",
    "A11 = 2 \n",
    "A33 = 223\n",
    "A55 = 137\n",
    "B11 = 0.28\n",
    "B33 = 386\n",
    "B55 = 18.4\n",
    "\n",
    "C11 = 0\n",
    "C33 = 11014\n",
    "C55 = 6233\n",
    "\n",
    "P = 1/((M11+A11)+0.5*dt*B11+beta*dt**2*C11)\n",
    "\n",
    "n = 3\n",
    "m = 1\n",
    "T = 5\n",
    "\n",
    "a11 = 1-beta*dt**2/P*C11\n",
    "a12 = dt-beta*dt**2/P*(B11+C11*dt)\n",
    "a13 = (0.5-beta)*dt**2-beta*dt**2/P*(B11*dt/2 + (0.5-beta)*C11*dt**2)\n",
    "a21 = -0.5/P*C11\n",
    "a22 = -0.5/P*(B11+C11*dt-2*P)\n",
    "a23 = -0.5/P*(B11*dt/2 + (0.5-beta)*C11*dt**2 - P)\n",
    "a31 = -1/P*C11\n",
    "a32 = -1/P*(B11+C11*dt)\n",
    "a33 = -1/P*(B11*dt/2 + (0.5-beta)*C11*dt**2)\n",
    "\n",
    "b1  = beta*dt**2/P\n",
    "b2  = 0.5/P\n",
    "b3  = 1/P\n",
    "\n",
    "A = 1/P * np.array([a11,a12,a13],[a21,a22,a23],[a31,a32,a33]) #(n,n)\n",
    "B = np.array([[b1],[b2],[b3]]) #(n,m)\n",
    "x_0 = beta*np.random.randn(n)\n",
    "\n",
    "x = cp.Variable((n, T+1))\n",
    "u = cp.Variable((m, T))\n",
    "\n",
    "cost = 0\n",
    "constr = []\n",
    "for t in range(T):\n",
    "    cost += cp.sum_squares(x[:,t+1]) + cp.sum_squares(u[:,t])\n",
    "    constr += [x[:,t+1] == A@x[:,t] + B@u[:,t] +B@w[:,t],\n",
    "               cp.norm(u[:,t], 'inf') <= 1]\n",
    "# sums problem objectives and concatenates constraints.\n",
    "constr += [x[:,T] == 0, x[:,0] == x_0]\n",
    "problem = cp.Problem(cp.Minimize(cost), constr)\n",
    "problem.solve(solver=cp.ECOS)\n",
    "\n",
    "start = time.time()\n",
    "result=prob.solve(verbose=True)\n",
    "elapsed_time = time.time() - start\n",
    "print (\"calc time:{0}\".format(elapsed_time) + \"[sec]\")\n",
    "\n",
    "if result == float(\"inf\"):\n",
    "    print(\"Cannot optimize\")\n",
    "    import sys\n",
    "    sys.exit()\n",
    "\n",
    "# Plot results.\n",
    "import matplotlib.pyplot as plt\n",
    "%matplotlib inline\n",
    "%config InlineBackend.figure_format = 'svg'\n",
    "\n",
    "f = plt.figure()\n",
    "\n",
    "# Plot (u_t)_1.\n",
    "ax = f.add_subplot(411)\n",
    "plt.plot(u[0,:].value)\n",
    "plt.ylabel(r\"$(u_t)_1$\", fontsize=16)\n",
    "plt.yticks(np.linspace(-1.0, 1.0, 3))\n",
    "plt.xticks([])\n",
    "\n",
    "# Plot (u_t)_2.\n",
    "plt.subplot(4,1,2)\n",
    "plt.plot(u[1,:].value)\n",
    "plt.ylabel(r\"$(u_t)_2$\", fontsize=16)\n",
    "plt.yticks(np.linspace(-1, 1, 3))\n",
    "plt.xticks([])\n",
    "\n",
    "# Plot (x_t)_1.\n",
    "plt.subplot(4,1,3)\n",
    "x1 = x[0,:].value\n",
    "plt.plot(x1)\n",
    "plt.ylabel(r\"$(x_t)_1$\", fontsize=16)\n",
    "plt.yticks([-10, 0, 10])\n",
    "plt.ylim([-10, 10])\n",
    "plt.xticks([])\n",
    "\n",
    "# Plot (x_t)_2.\n",
    "plt.subplot(4,1,4)\n",
    "x2 = x[1,:].value\n",
    "plt.plot(range(51), x2)\n",
    "plt.yticks([-25, 0, 25])\n",
    "plt.ylim([-25, 25])\n",
    "plt.ylabel(r\"$(x_t)_2$\", fontsize=16)\n",
    "plt.xlabel(r\"$t$\", fontsize=16)\n",
    "plt.tight_layout()\n",
    "plt.show()"
   ]
  },
  {
   "cell_type": "code",
   "execution_count": 8,
   "metadata": {},
   "outputs": [
    {
     "output_type": "execute_result",
     "data": {
      "text/plain": [
       "Variable((4,))"
      ]
     },
     "metadata": {},
     "execution_count": 8
    }
   ],
   "source": []
  },
  {
   "cell_type": "code",
   "execution_count": 6,
   "metadata": {},
   "outputs": [
    {
     "output_type": "execute_result",
     "data": {
      "text/plain": [
       "Expression(CONSTANT, NONNEGATIVE, ())"
      ]
     },
     "metadata": {},
     "execution_count": 6
    }
   ],
   "source": [
    "sum_squares([1,2,3])"
   ]
  },
  {
   "cell_type": "code",
   "execution_count": null,
   "metadata": {},
   "outputs": [],
   "source": []
  }
 ]
}