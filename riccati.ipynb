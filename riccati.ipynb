{
 "metadata": {
  "language_info": {
   "codemirror_mode": {
    "name": "ipython",
    "version": 3
   },
   "file_extension": ".py",
   "mimetype": "text/x-python",
   "name": "python",
   "nbconvert_exporter": "python",
   "pygments_lexer": "ipython3",
   "version": "3.6.12-final"
  },
  "orig_nbformat": 2,
  "kernelspec": {
   "name": "python3",
   "display_name": "Python 3",
   "language": "python"
  }
 },
 "nbformat": 4,
 "nbformat_minor": 2,
 "cells": [
  {
   "cell_type": "code",
   "execution_count": 1,
   "metadata": {},
   "outputs": [],
   "source": [
    "from scipy import linalg\n",
    "import numpy as np"
   ]
  },
  {
   "cell_type": "code",
   "execution_count": 47,
   "metadata": {},
   "outputs": [],
   "source": [
    "M11 = 86.80879\n",
    "M33 = 86.80879\n",
    "M55 = 86.80879*0.782**2\n",
    "\n",
    "#T=3\n",
    "A11 = 2 \n",
    "A33 = 223\n",
    "A55 = 137\n",
    "# B11 = 0.28\n",
    "B11 = 12\n",
    "B33 = 386\n",
    "B55 = 18.4\n",
    "\n",
    "C11 = 0\n",
    "C33 = 11014\n",
    "C55 = 6233"
   ]
  },
  {
   "cell_type": "code",
   "execution_count": 48,
   "metadata": {},
   "outputs": [
    {
     "output_type": "execute_result",
     "data": {
      "text/plain": [
       "array([[  46464.73208447, -341064.67231491],\n",
       "       [-341064.67231491, 2784043.99702716]])"
      ]
     },
     "metadata": {},
     "execution_count": 48
    }
   ],
   "source": [
    "a = np.array([[0, 1], [-C11/(M11+A11), -B11/(M11+A11)]])\n",
    "b = np.array([[1/B11], [1/(M11+A11)]])\n",
    "q = 1000*np.array([[1, 0], [0, 10000]])\n",
    "r = 1\n",
    "p = linalg.solve_continuous_are(a,b,q,r)\n",
    "p"
   ]
  },
  {
   "cell_type": "code",
   "execution_count": 49,
   "metadata": {},
   "outputs": [
    {
     "output_type": "execute_result",
     "data": {
      "text/plain": [
       "array([[ 0.        ,  1.        ],\n",
       "       [ 0.        , -0.13512176]])"
      ]
     },
     "metadata": {},
     "execution_count": 49
    }
   ],
   "source": [
    "a"
   ]
  },
  {
   "cell_type": "code",
   "execution_count": 50,
   "metadata": {},
   "outputs": [
    {
     "output_type": "execute_result",
     "data": {
      "text/plain": [
       "array([[0.08333333, 0.01126015]])"
      ]
     },
     "metadata": {},
     "execution_count": 50
    }
   ],
   "source": [
    "b.T"
   ]
  },
  {
   "cell_type": "code",
   "execution_count": 51,
   "metadata": {},
   "outputs": [
    {
     "output_type": "execute_result",
     "data": {
      "text/plain": [
       "array([[  46464.73208447, -341064.67231491],\n",
       "       [-341064.67231491, 2784043.99702716]])"
      ]
     },
     "metadata": {},
     "execution_count": 51
    }
   ],
   "source": [
    "p"
   ]
  },
  {
   "cell_type": "code",
   "execution_count": 52,
   "metadata": {},
   "outputs": [
    {
     "output_type": "execute_result",
     "data": {
      "text/plain": [
       "1.0000000003878857"
      ]
     },
     "metadata": {},
     "execution_count": 52
    }
   ],
   "source": [
    "0.28060176*3.57142857 - 0.01126015*0.19086265"
   ]
  },
  {
   "cell_type": "code",
   "execution_count": 53,
   "metadata": {},
   "outputs": [
    {
     "output_type": "execute_result",
     "data": {
      "text/plain": [
       "array([[  31.6227766 , 2926.68768513]])"
      ]
     },
     "metadata": {},
     "execution_count": 53
    }
   ],
   "source": [
    "np.matmul(b.T,p)"
   ]
  },
  {
   "cell_type": "code",
   "execution_count": 54,
   "metadata": {},
   "outputs": [
    {
     "output_type": "execute_result",
     "data": {
      "text/plain": [
       "array([[  3872.06100704,  -3840.43823044],\n",
       "       [-28422.05602624,  31348.74371137]])"
      ]
     },
     "metadata": {},
     "execution_count": 54
    }
   ],
   "source": [
    "b.T * p"
   ]
  },
  {
   "cell_type": "code",
   "execution_count": 55,
   "metadata": {},
   "outputs": [
    {
     "output_type": "execute_result",
     "data": {
      "text/plain": [
       "(1, 2)"
      ]
     },
     "metadata": {},
     "execution_count": 55
    }
   ],
   "source": [
    "(b.T @ p).shape"
   ]
  },
  {
   "cell_type": "code",
   "execution_count": 57,
   "metadata": {},
   "outputs": [
    {
     "output_type": "execute_result",
     "data": {
      "text/plain": [
       "-146.65061202256624"
      ]
     },
     "metadata": {},
     "execution_count": 57
    }
   ],
   "source": [
    "x = np.array([0.01,0.05])\n",
    "F = -1/r * b.T @ p @ x\n",
    "F[0]"
   ]
  },
  {
   "cell_type": "code",
   "execution_count": null,
   "metadata": {},
   "outputs": [],
   "source": []
  }
 ]
}