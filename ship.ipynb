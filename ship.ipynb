{
 "metadata": {
  "language_info": {
   "codemirror_mode": {
    "name": "ipython",
    "version": 3
   },
   "file_extension": ".py",
   "mimetype": "text/x-python",
   "name": "python",
   "nbconvert_exporter": "python",
   "pygments_lexer": "ipython3",
   "version": "3.7.9-final"
  },
  "orig_nbformat": 2,
  "kernelspec": {
   "name": "python3",
   "display_name": "Python 3"
  }
 },
 "nbformat": 4,
 "nbformat_minor": 2,
 "cells": [
  {
   "cell_type": "code",
   "execution_count": 16,
   "metadata": {},
   "outputs": [],
   "source": [
    "import math"
   ]
  },
  {
   "cell_type": "code",
   "execution_count": 8,
   "metadata": {},
   "outputs": [],
   "source": [
    "gg = 9.8\n",
    "rho = 997"
   ]
  },
  {
   "cell_type": "code",
   "execution_count": 21,
   "metadata": {},
   "outputs": [],
   "source": [
    "class Wave:\n",
    "    amp = 0.\n",
    "    k = 0.\n",
    "    omega = 0.\n",
    "    phase = 0.\n",
    "    def __init__(self, a, o, p):\n",
    "        self.amp = a\n",
    "        self.omega = o\n",
    "        self.k = o*o/gg\n",
    "        self.phase = p\n",
    "    \n",
    "    def get(self,x, t):\n",
    "        return self.amp*math.sin(self.omega*t + self.k*x + self.phase)\n"
   ]
  },
  {
   "cell_type": "code",
   "execution_count": 22,
   "metadata": {},
   "outputs": [
    {
     "output_type": "execute_result",
     "data": {
      "text/plain": [
       "-0.9946216331708708"
      ]
     },
     "metadata": {},
     "execution_count": 22
    }
   ],
   "source": [
    "ww = Wave(1,1,1)\n",
    "\n",
    "ww.get(40,50)"
   ]
  },
  {
   "cell_type": "code",
   "execution_count": null,
   "metadata": {},
   "outputs": [],
   "source": []
  }
 ]
}