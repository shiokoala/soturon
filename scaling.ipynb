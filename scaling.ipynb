{
 "metadata": {
  "language_info": {
   "codemirror_mode": {
    "name": "ipython",
    "version": 3
   },
   "file_extension": ".py",
   "mimetype": "text/x-python",
   "name": "python",
   "nbconvert_exporter": "python",
   "pygments_lexer": "ipython3",
   "version": "3.7.9-final"
  },
  "orig_nbformat": 2,
  "kernelspec": {
   "name": "python3",
   "display_name": "Python 3"
  }
 },
 "nbformat": 4,
 "nbformat_minor": 2,
 "cells": [
  {
   "cell_type": "code",
   "execution_count": 1,
   "metadata": {},
   "outputs": [],
   "source": [
    "# DTU Experiment Catamaran Dimensions\n",
    "# Length Overall    3.11m\n",
    "# Length waterline  3.00m\n",
    "# Beam over all     0.94m\n",
    "# Beam demihul      0.24m\n",
    "# Draught           0.15m\n",
    "# Volume            0.08707 m^3\n",
    "# L/B               12.5\n",
    "# L/T(draught)      20.0\n",
    "# COG               0.34m\n"
   ]
  },
  {
   "cell_type": "code",
   "execution_count": 2,
   "metadata": {},
   "outputs": [],
   "source": [
    "# Real world Catamaran Dimensions(TBD)\n",
    "# Length overall    25m"
   ]
  },
  {
   "cell_type": "code",
   "execution_count": 3,
   "metadata": {},
   "outputs": [],
   "source": [
    "# Fn = U_f/sqrt(gg*L_wl)"
   ]
  },
  {
   "cell_type": "code",
   "execution_count": 4,
   "metadata": {},
   "outputs": [],
   "source": [
    "import math"
   ]
  },
  {
   "cell_type": "code",
   "execution_count": 11,
   "metadata": {},
   "outputs": [],
   "source": [
    "#max speed around 20~25knots = 10~13 m/s\n",
    "#low speed -> assume 10% of max speed\n",
    "U_real = 10\n",
    "ScalingFactor = 3.11/25\n",
    "# Fn = U_real/sqrt(gg * L_real) = U_sim/sqrt(gg * L_sim=L_real*ScalingFactor)\n",
    "# U_sim = U_real*sqrt(ScalingFactor)\n",
    "U_sim = U_real*math.sqrt(ScalingFactor)"
   ]
  },
  {
   "cell_type": "code",
   "execution_count": 12,
   "metadata": {},
   "outputs": [
    {
     "output_type": "execute_result",
     "data": {
      "text/plain": [
       "3.52703841770968"
      ]
     },
     "metadata": {},
     "execution_count": 12
    }
   ],
   "source": [
    "U_sim"
   ]
  },
  {
   "cell_type": "code",
   "execution_count": null,
   "metadata": {},
   "outputs": [],
   "source": []
  }
 ]
}