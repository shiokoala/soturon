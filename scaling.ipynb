{
 "metadata": {
  "language_info": {
   "codemirror_mode": {
    "name": "ipython",
    "version": 3
   },
   "file_extension": ".py",
   "mimetype": "text/x-python",
   "name": "python",
   "nbconvert_exporter": "python",
   "pygments_lexer": "ipython3",
   "version": "3.6.4-final"
  },
  "orig_nbformat": 2,
  "kernelspec": {
   "name": "python3",
   "display_name": "Python 3"
  }
 },
 "nbformat": 4,
 "nbformat_minor": 2,
 "cells": [
  {
   "cell_type": "code",
   "execution_count": 1,
   "metadata": {},
   "outputs": [],
   "source": [
    "# DTU Experiment Catamaran Dimensions\n",
    "# Length Overall    3.11m\n",
    "# Length waterline  3.00m\n",
    "# Beam over all     0.94m\n",
    "# Beam demihul      0.24m\n",
    "# Draught           0.15m\n",
    "# Volume            0.08707 m^3\n",
    "# L/B               12.5\n",
    "# L/T(draught)      20.0\n",
    "# COG               0.34m\n"
   ]
  },
  {
   "cell_type": "code",
   "execution_count": 3,
   "metadata": {},
   "outputs": [],
   "source": [
    "# Real world Catamaran Dimensions(TBD)\n",
    "# Length overall    25m"
   ]
  },
  {
   "cell_type": "code",
   "execution_count": 4,
   "metadata": {},
   "outputs": [],
   "source": [
    "# Fn = U_f/sqrt(gg*L_wl)"
   ]
  },
  {
   "cell_type": "code",
   "execution_count": 5,
   "metadata": {},
   "outputs": [],
   "source": [
    "import math"
   ]
  },
  {
   "cell_type": "code",
   "execution_count": 8,
   "metadata": {},
   "outputs": [],
   "source": [
    "U_real = 1\n",
    "ScalingFactor = 3.11/25\n",
    "U_sim = U_real*math.sqrt(ScalingFactor)"
   ]
  },
  {
   "cell_type": "code",
   "execution_count": null,
   "metadata": {},
   "outputs": [],
   "source": []
  }
 ]
}